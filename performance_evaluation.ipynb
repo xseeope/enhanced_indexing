{
 "cells": [
  {
   "cell_type": "code",
   "execution_count": 10,
   "metadata": {
    "collapsed": true,
    "ExecuteTime": {
     "end_time": "2024-01-28T05:09:15.257147Z",
     "start_time": "2024-01-28T05:09:13.186439Z"
    }
   },
   "outputs": [
    {
     "name": "stdout",
     "output_type": "stream",
     "text": [
      "(639, 5)\n",
      "(519, 3)\n"
     ]
    }
   ],
   "source": [
    "import numpy as np\n",
    "import pandas as pd\n",
    "\n",
    "df_project = pd.read_csv('project.csv')\n",
    "df_riskfactor = pd.read_csv('riskfactor.csv')\n",
    "portfolio_ret = pd.read_csv('portfolio_ret.csv')\n",
    "print(df_riskfactor.shape)\n",
    "print(portfolio_ret.shape)"
   ]
  },
  {
   "cell_type": "code",
   "execution_count": 11,
   "outputs": [],
   "source": [
    "# df_riskfactor['date'] = pd.to_datetime(df_riskfactor['date'])\n",
    "# portfolio_ret['date'] = pd.to_datetime(portfolio_ret['date'])\n",
    "\n",
    "merged_df = pd.merge(df_riskfactor, portfolio_ret, on='date', how='outer')\n",
    "merged_df.dropna(inplace=True)\n",
    "merged_df = merged_df.reset_index(drop=True)\n",
    "\n",
    "merged_df['enhanced'] = merged_df['star'] + merged_df['Mkt-RF']"
   ],
   "metadata": {
    "collapsed": false,
    "ExecuteTime": {
     "end_time": "2024-01-28T05:09:15.263121Z",
     "start_time": "2024-01-28T05:09:15.259383Z"
    }
   }
  },
  {
   "cell_type": "code",
   "execution_count": 12,
   "outputs": [
    {
     "name": "stdout",
     "output_type": "stream",
     "text": [
      "average excess return of minimal variance portfolio: 0.14697149863532044\n",
      "average excess return of enhanced index strategy: 0.8912805169061617\n"
     ]
    }
   ],
   "source": [
    "# 计算 annualized average excess return\n",
    "print(f\"average excess return of minimal variance portfolio: {merged_df['gmv'].mean()*12}\")\n",
    "print(f\"average excess return of enhanced index strategy: {merged_df['enhanced'].mean()*12}\")"
   ],
   "metadata": {
    "collapsed": false,
    "ExecuteTime": {
     "end_time": "2024-01-28T05:09:15.266644Z",
     "start_time": "2024-01-28T05:09:15.264381Z"
    }
   }
  },
  {
   "cell_type": "code",
   "execution_count": 13,
   "outputs": [
    {
     "name": "stdout",
     "output_type": "stream",
     "text": [
      "annualized standard deviations of excess return of minimal variance portfolio: 0.11259692218064805\n",
      "annualized standard deviations of excess return of enhanced index strategy: 0.37120017237717123\n"
     ]
    }
   ],
   "source": [
    "# 计算 standard deviation\n",
    "print(f\"annualized standard deviations of excess return of minimal variance portfolio: {merged_df['gmv'].std() * np.sqrt(12)}\")\n",
    "print(f\"annualized standard deviations of excess return of enhanced index strategy: {merged_df['enhanced'].std() * np.sqrt(12)}\")"
   ],
   "metadata": {
    "collapsed": false,
    "ExecuteTime": {
     "end_time": "2024-01-28T05:09:15.270015Z",
     "start_time": "2024-01-28T05:09:15.267499Z"
    }
   }
  },
  {
   "cell_type": "code",
   "execution_count": 14,
   "outputs": [
    {
     "name": "stdout",
     "output_type": "stream",
     "text": [
      "Sharpe ratio of minimal variance portfolio: 1.30528877511876\n",
      "Sharpe ratio of enhanced index strategy: 2.4010778637261625\n"
     ]
    }
   ],
   "source": [
    "# 计算 Sharpe ratio\n",
    "print(f\"Sharpe ratio of minimal variance portfolio: {merged_df['gmv'].mean() * np.sqrt(12) / merged_df['gmv'].std()}\")\n",
    "print(f\"Sharpe ratio of enhanced index strategy: {merged_df['enhanced'].mean() * np.sqrt(12) / merged_df['enhanced'].std()}\")"
   ],
   "metadata": {
    "collapsed": false,
    "ExecuteTime": {
     "end_time": "2024-01-28T05:09:15.275186Z",
     "start_time": "2024-01-28T05:09:15.271271Z"
    }
   }
  },
  {
   "cell_type": "code",
   "execution_count": 15,
   "outputs": [
    {
     "name": "stdout",
     "output_type": "stream",
     "text": [
      "CAPM alpha of minimal variance portfolio: 0.10978040687202431\n",
      "t-stat of minimal variance portfolio alpha: 8.28553223270226\n",
      "CAPM alpha of enhanced index strategy: 0.7952075526838882\n",
      "t-stat of enhanced index strategy alpha: 16.129348052476114\n",
      "beta of minimal variance portfolio: 0.4592607123008663\n",
      "beta of enhanced index strategy: 1.1863738301202886\n",
      "annualized systematic volatility of minimal variance portfolio: 0.07254494965119777\n",
      "annualized systematic volatility of enhanced index strategy: 0.18739993966040072\n",
      "annualized idiosyncratic volatility of minimal variance portfolio: 0.08602912007878331\n",
      "annualized idiosyncratic volatility of enhanced index strategy: 0.3201140519435635\n",
      "R-squared of minimal variance portfolio: 0.4151082154572172\n",
      "R-squared of enhanced index strategy: 0.2548722512261873\n",
      "annualized information ratio of minimal variance portfolio: 1.2760842697390158\n",
      "annualized information ratio of enhanced index strategy: 2.4841382246602666\n"
     ]
    },
    {
     "name": "stderr",
     "output_type": "stream",
     "text": [
      "/var/folders/1f/91hv976d7kg7xs15v3brlyyw0000gn/T/ipykernel_12621/2053854674.py:8: FutureWarning: Series.__getitem__ treating keys as positions is deprecated. In a future version, integer keys will always be treated as labels (consistent with DataFrame behavior). To access a value by position, use `ser.iloc[pos]`\n",
      "  results = [model.params[0] * 12, model.tvalues[0], model.params[1], np.std(model.resid) * np.sqrt(12), model.rsquared]\n",
      "/var/folders/1f/91hv976d7kg7xs15v3brlyyw0000gn/T/ipykernel_12621/2053854674.py:8: FutureWarning: Series.__getitem__ treating keys as positions is deprecated. In a future version, integer keys will always be treated as labels (consistent with DataFrame behavior). To access a value by position, use `ser.iloc[pos]`\n",
      "  results = [model.params[0] * 12, model.tvalues[0], model.params[1], np.std(model.resid) * np.sqrt(12), model.rsquared]\n",
      "/var/folders/1f/91hv976d7kg7xs15v3brlyyw0000gn/T/ipykernel_12621/2053854674.py:8: FutureWarning: Series.__getitem__ treating keys as positions is deprecated. In a future version, integer keys will always be treated as labels (consistent with DataFrame behavior). To access a value by position, use `ser.iloc[pos]`\n",
      "  results = [model.params[0] * 12, model.tvalues[0], model.params[1], np.std(model.resid) * np.sqrt(12), model.rsquared]\n",
      "/var/folders/1f/91hv976d7kg7xs15v3brlyyw0000gn/T/ipykernel_12621/2053854674.py:8: FutureWarning: Series.__getitem__ treating keys as positions is deprecated. In a future version, integer keys will always be treated as labels (consistent with DataFrame behavior). To access a value by position, use `ser.iloc[pos]`\n",
      "  results = [model.params[0] * 12, model.tvalues[0], model.params[1], np.std(model.resid) * np.sqrt(12), model.rsquared]\n",
      "/var/folders/1f/91hv976d7kg7xs15v3brlyyw0000gn/T/ipykernel_12621/2053854674.py:8: FutureWarning: Series.__getitem__ treating keys as positions is deprecated. In a future version, integer keys will always be treated as labels (consistent with DataFrame behavior). To access a value by position, use `ser.iloc[pos]`\n",
      "  results = [model.params[0] * 12, model.tvalues[0], model.params[1], np.std(model.resid) * np.sqrt(12), model.rsquared]\n",
      "/var/folders/1f/91hv976d7kg7xs15v3brlyyw0000gn/T/ipykernel_12621/2053854674.py:8: FutureWarning: Series.__getitem__ treating keys as positions is deprecated. In a future version, integer keys will always be treated as labels (consistent with DataFrame behavior). To access a value by position, use `ser.iloc[pos]`\n",
      "  results = [model.params[0] * 12, model.tvalues[0], model.params[1], np.std(model.resid) * np.sqrt(12), model.rsquared]\n",
      "/var/folders/1f/91hv976d7kg7xs15v3brlyyw0000gn/T/ipykernel_12621/2053854674.py:8: FutureWarning: Series.__getitem__ treating keys as positions is deprecated. In a future version, integer keys will always be treated as labels (consistent with DataFrame behavior). To access a value by position, use `ser.iloc[pos]`\n",
      "  results = [model.params[0] * 12, model.tvalues[0], model.params[1], np.std(model.resid) * np.sqrt(12), model.rsquared]\n",
      "/var/folders/1f/91hv976d7kg7xs15v3brlyyw0000gn/T/ipykernel_12621/2053854674.py:8: FutureWarning: Series.__getitem__ treating keys as positions is deprecated. In a future version, integer keys will always be treated as labels (consistent with DataFrame behavior). To access a value by position, use `ser.iloc[pos]`\n",
      "  results = [model.params[0] * 12, model.tvalues[0], model.params[1], np.std(model.resid) * np.sqrt(12), model.rsquared]\n",
      "/var/folders/1f/91hv976d7kg7xs15v3brlyyw0000gn/T/ipykernel_12621/2053854674.py:8: FutureWarning: Series.__getitem__ treating keys as positions is deprecated. In a future version, integer keys will always be treated as labels (consistent with DataFrame behavior). To access a value by position, use `ser.iloc[pos]`\n",
      "  results = [model.params[0] * 12, model.tvalues[0], model.params[1], np.std(model.resid) * np.sqrt(12), model.rsquared]\n",
      "/var/folders/1f/91hv976d7kg7xs15v3brlyyw0000gn/T/ipykernel_12621/2053854674.py:8: FutureWarning: Series.__getitem__ treating keys as positions is deprecated. In a future version, integer keys will always be treated as labels (consistent with DataFrame behavior). To access a value by position, use `ser.iloc[pos]`\n",
      "  results = [model.params[0] * 12, model.tvalues[0], model.params[1], np.std(model.resid) * np.sqrt(12), model.rsquared]\n",
      "/var/folders/1f/91hv976d7kg7xs15v3brlyyw0000gn/T/ipykernel_12621/2053854674.py:8: FutureWarning: Series.__getitem__ treating keys as positions is deprecated. In a future version, integer keys will always be treated as labels (consistent with DataFrame behavior). To access a value by position, use `ser.iloc[pos]`\n",
      "  results = [model.params[0] * 12, model.tvalues[0], model.params[1], np.std(model.resid) * np.sqrt(12), model.rsquared]\n",
      "/var/folders/1f/91hv976d7kg7xs15v3brlyyw0000gn/T/ipykernel_12621/2053854674.py:8: FutureWarning: Series.__getitem__ treating keys as positions is deprecated. In a future version, integer keys will always be treated as labels (consistent with DataFrame behavior). To access a value by position, use `ser.iloc[pos]`\n",
      "  results = [model.params[0] * 12, model.tvalues[0], model.params[1], np.std(model.resid) * np.sqrt(12), model.rsquared]\n",
      "/var/folders/1f/91hv976d7kg7xs15v3brlyyw0000gn/T/ipykernel_12621/2053854674.py:8: FutureWarning: Series.__getitem__ treating keys as positions is deprecated. In a future version, integer keys will always be treated as labels (consistent with DataFrame behavior). To access a value by position, use `ser.iloc[pos]`\n",
      "  results = [model.params[0] * 12, model.tvalues[0], model.params[1], np.std(model.resid) * np.sqrt(12), model.rsquared]\n",
      "/var/folders/1f/91hv976d7kg7xs15v3brlyyw0000gn/T/ipykernel_12621/2053854674.py:8: FutureWarning: Series.__getitem__ treating keys as positions is deprecated. In a future version, integer keys will always be treated as labels (consistent with DataFrame behavior). To access a value by position, use `ser.iloc[pos]`\n",
      "  results = [model.params[0] * 12, model.tvalues[0], model.params[1], np.std(model.resid) * np.sqrt(12), model.rsquared]\n",
      "/var/folders/1f/91hv976d7kg7xs15v3brlyyw0000gn/T/ipykernel_12621/2053854674.py:8: FutureWarning: Series.__getitem__ treating keys as positions is deprecated. In a future version, integer keys will always be treated as labels (consistent with DataFrame behavior). To access a value by position, use `ser.iloc[pos]`\n",
      "  results = [model.params[0] * 12, model.tvalues[0], model.params[1], np.std(model.resid) * np.sqrt(12), model.rsquared]\n",
      "/var/folders/1f/91hv976d7kg7xs15v3brlyyw0000gn/T/ipykernel_12621/2053854674.py:8: FutureWarning: Series.__getitem__ treating keys as positions is deprecated. In a future version, integer keys will always be treated as labels (consistent with DataFrame behavior). To access a value by position, use `ser.iloc[pos]`\n",
      "  results = [model.params[0] * 12, model.tvalues[0], model.params[1], np.std(model.resid) * np.sqrt(12), model.rsquared]\n",
      "/var/folders/1f/91hv976d7kg7xs15v3brlyyw0000gn/T/ipykernel_12621/2053854674.py:8: FutureWarning: Series.__getitem__ treating keys as positions is deprecated. In a future version, integer keys will always be treated as labels (consistent with DataFrame behavior). To access a value by position, use `ser.iloc[pos]`\n",
      "  results = [model.params[0] * 12, model.tvalues[0], model.params[1], np.std(model.resid) * np.sqrt(12), model.rsquared]\n",
      "/var/folders/1f/91hv976d7kg7xs15v3brlyyw0000gn/T/ipykernel_12621/2053854674.py:8: FutureWarning: Series.__getitem__ treating keys as positions is deprecated. In a future version, integer keys will always be treated as labels (consistent with DataFrame behavior). To access a value by position, use `ser.iloc[pos]`\n",
      "  results = [model.params[0] * 12, model.tvalues[0], model.params[1], np.std(model.resid) * np.sqrt(12), model.rsquared]\n",
      "/var/folders/1f/91hv976d7kg7xs15v3brlyyw0000gn/T/ipykernel_12621/2053854674.py:8: FutureWarning: Series.__getitem__ treating keys as positions is deprecated. In a future version, integer keys will always be treated as labels (consistent with DataFrame behavior). To access a value by position, use `ser.iloc[pos]`\n",
      "  results = [model.params[0] * 12, model.tvalues[0], model.params[1], np.std(model.resid) * np.sqrt(12), model.rsquared]\n",
      "/var/folders/1f/91hv976d7kg7xs15v3brlyyw0000gn/T/ipykernel_12621/2053854674.py:8: FutureWarning: Series.__getitem__ treating keys as positions is deprecated. In a future version, integer keys will always be treated as labels (consistent with DataFrame behavior). To access a value by position, use `ser.iloc[pos]`\n",
      "  results = [model.params[0] * 12, model.tvalues[0], model.params[1], np.std(model.resid) * np.sqrt(12), model.rsquared]\n",
      "/var/folders/1f/91hv976d7kg7xs15v3brlyyw0000gn/T/ipykernel_12621/2053854674.py:8: FutureWarning: Series.__getitem__ treating keys as positions is deprecated. In a future version, integer keys will always be treated as labels (consistent with DataFrame behavior). To access a value by position, use `ser.iloc[pos]`\n",
      "  results = [model.params[0] * 12, model.tvalues[0], model.params[1], np.std(model.resid) * np.sqrt(12), model.rsquared]\n",
      "/var/folders/1f/91hv976d7kg7xs15v3brlyyw0000gn/T/ipykernel_12621/2053854674.py:8: FutureWarning: Series.__getitem__ treating keys as positions is deprecated. In a future version, integer keys will always be treated as labels (consistent with DataFrame behavior). To access a value by position, use `ser.iloc[pos]`\n",
      "  results = [model.params[0] * 12, model.tvalues[0], model.params[1], np.std(model.resid) * np.sqrt(12), model.rsquared]\n",
      "/var/folders/1f/91hv976d7kg7xs15v3brlyyw0000gn/T/ipykernel_12621/2053854674.py:8: FutureWarning: Series.__getitem__ treating keys as positions is deprecated. In a future version, integer keys will always be treated as labels (consistent with DataFrame behavior). To access a value by position, use `ser.iloc[pos]`\n",
      "  results = [model.params[0] * 12, model.tvalues[0], model.params[1], np.std(model.resid) * np.sqrt(12), model.rsquared]\n",
      "/var/folders/1f/91hv976d7kg7xs15v3brlyyw0000gn/T/ipykernel_12621/2053854674.py:8: FutureWarning: Series.__getitem__ treating keys as positions is deprecated. In a future version, integer keys will always be treated as labels (consistent with DataFrame behavior). To access a value by position, use `ser.iloc[pos]`\n",
      "  results = [model.params[0] * 12, model.tvalues[0], model.params[1], np.std(model.resid) * np.sqrt(12), model.rsquared]\n",
      "/var/folders/1f/91hv976d7kg7xs15v3brlyyw0000gn/T/ipykernel_12621/2053854674.py:8: FutureWarning: Series.__getitem__ treating keys as positions is deprecated. In a future version, integer keys will always be treated as labels (consistent with DataFrame behavior). To access a value by position, use `ser.iloc[pos]`\n",
      "  results = [model.params[0] * 12, model.tvalues[0], model.params[1], np.std(model.resid) * np.sqrt(12), model.rsquared]\n",
      "/var/folders/1f/91hv976d7kg7xs15v3brlyyw0000gn/T/ipykernel_12621/2053854674.py:8: FutureWarning: Series.__getitem__ treating keys as positions is deprecated. In a future version, integer keys will always be treated as labels (consistent with DataFrame behavior). To access a value by position, use `ser.iloc[pos]`\n",
      "  results = [model.params[0] * 12, model.tvalues[0], model.params[1], np.std(model.resid) * np.sqrt(12), model.rsquared]\n",
      "/var/folders/1f/91hv976d7kg7xs15v3brlyyw0000gn/T/ipykernel_12621/2053854674.py:8: FutureWarning: Series.__getitem__ treating keys as positions is deprecated. In a future version, integer keys will always be treated as labels (consistent with DataFrame behavior). To access a value by position, use `ser.iloc[pos]`\n",
      "  results = [model.params[0] * 12, model.tvalues[0], model.params[1], np.std(model.resid) * np.sqrt(12), model.rsquared]\n",
      "/var/folders/1f/91hv976d7kg7xs15v3brlyyw0000gn/T/ipykernel_12621/2053854674.py:8: FutureWarning: Series.__getitem__ treating keys as positions is deprecated. In a future version, integer keys will always be treated as labels (consistent with DataFrame behavior). To access a value by position, use `ser.iloc[pos]`\n",
      "  results = [model.params[0] * 12, model.tvalues[0], model.params[1], np.std(model.resid) * np.sqrt(12), model.rsquared]\n",
      "/var/folders/1f/91hv976d7kg7xs15v3brlyyw0000gn/T/ipykernel_12621/2053854674.py:8: FutureWarning: Series.__getitem__ treating keys as positions is deprecated. In a future version, integer keys will always be treated as labels (consistent with DataFrame behavior). To access a value by position, use `ser.iloc[pos]`\n",
      "  results = [model.params[0] * 12, model.tvalues[0], model.params[1], np.std(model.resid) * np.sqrt(12), model.rsquared]\n",
      "/var/folders/1f/91hv976d7kg7xs15v3brlyyw0000gn/T/ipykernel_12621/2053854674.py:8: FutureWarning: Series.__getitem__ treating keys as positions is deprecated. In a future version, integer keys will always be treated as labels (consistent with DataFrame behavior). To access a value by position, use `ser.iloc[pos]`\n",
      "  results = [model.params[0] * 12, model.tvalues[0], model.params[1], np.std(model.resid) * np.sqrt(12), model.rsquared]\n",
      "/var/folders/1f/91hv976d7kg7xs15v3brlyyw0000gn/T/ipykernel_12621/2053854674.py:8: FutureWarning: Series.__getitem__ treating keys as positions is deprecated. In a future version, integer keys will always be treated as labels (consistent with DataFrame behavior). To access a value by position, use `ser.iloc[pos]`\n",
      "  results = [model.params[0] * 12, model.tvalues[0], model.params[1], np.std(model.resid) * np.sqrt(12), model.rsquared]\n",
      "/var/folders/1f/91hv976d7kg7xs15v3brlyyw0000gn/T/ipykernel_12621/2053854674.py:8: FutureWarning: Series.__getitem__ treating keys as positions is deprecated. In a future version, integer keys will always be treated as labels (consistent with DataFrame behavior). To access a value by position, use `ser.iloc[pos]`\n",
      "  results = [model.params[0] * 12, model.tvalues[0], model.params[1], np.std(model.resid) * np.sqrt(12), model.rsquared]\n"
     ]
    }
   ],
   "source": [
    "# CAPM regression\n",
    "import statsmodels.api as sm\n",
    "def CAPM_reg(asset):\n",
    "    y = merged_df[asset]\n",
    "    X = merged_df[\"Mkt-RF\"]\n",
    "    X = sm.add_constant(X)\n",
    "    model = sm.OLS(y, X).fit()\n",
    "    results = [model.params[0] * 12, model.tvalues[0], model.params[1], np.std(model.resid) * np.sqrt(12), model.rsquared]\n",
    "    return results\n",
    "\n",
    "market_std= merged_df[\"Mkt-RF\"].std() * np.sqrt(12)\n",
    "\n",
    "print(f\"CAPM alpha of minimal variance portfolio: {CAPM_reg('gmv')[0]}\")\n",
    "print(f\"t-stat of minimal variance portfolio alpha: {CAPM_reg('gmv')[1]}\")\n",
    "print(f\"CAPM alpha of enhanced index strategy: {CAPM_reg('enhanced')[0]}\")\n",
    "print(f\"t-stat of enhanced index strategy alpha: {CAPM_reg('enhanced')[1]}\")\n",
    "print(f\"beta of minimal variance portfolio: {CAPM_reg('gmv')[2]}\")\n",
    "print(f\"beta of enhanced index strategy: {CAPM_reg('enhanced')[2]}\")\n",
    "print(f\"annualized systematic volatility of minimal variance portfolio: {CAPM_reg('gmv')[2] * market_std}\")\n",
    "print(f\"annualized systematic volatility of enhanced index strategy: {CAPM_reg('enhanced')[2] * market_std}\")\n",
    "print(f\"annualized idiosyncratic volatility of minimal variance portfolio: {CAPM_reg('gmv')[3]}\")\n",
    "print(f\"annualized idiosyncratic volatility of enhanced index strategy: {CAPM_reg('enhanced')[3]}\")\n",
    "print(f\"R-squared of minimal variance portfolio: {CAPM_reg('gmv')[4]}\")\n",
    "print(f\"R-squared of enhanced index strategy: {CAPM_reg('enhanced')[4]}\")\n",
    "print(f\"annualized information ratio of minimal variance portfolio: {CAPM_reg('gmv')[0] / CAPM_reg('gmv')[3]}\")\n",
    "print(f\"annualized information ratio of enhanced index strategy: {CAPM_reg('enhanced')[0] / CAPM_reg('enhanced')[3]}\")\n"
   ],
   "metadata": {
    "collapsed": false,
    "ExecuteTime": {
     "end_time": "2024-01-28T05:09:15.355935Z",
     "start_time": "2024-01-28T05:09:15.278367Z"
    }
   }
  },
  {
   "cell_type": "code",
   "execution_count": 16,
   "outputs": [
    {
     "name": "stdout",
     "output_type": "stream",
     "text": [
      "max drawdown of minimal variance portfolio: -0.3446644065591842\n",
      "max drawdown of enhanced index strategy: -0.5191969656671773\n",
      "max max_duration of minimal variance portfolio: 30\n",
      "max max_duration of enhanced index strategy: 16\n"
     ]
    }
   ],
   "source": [
    "def to_net_value(a):\n",
    "    a = a + 1\n",
    "    a = a.cumprod()\n",
    "    return a\n",
    "\n",
    "gmv_net_value = pd.DataFrame(to_net_value(merged_df['gmv'] + merged_df['RF']))\n",
    "enhanced_net_value = pd.DataFrame(to_net_value(merged_df['enhanced'] + merged_df['RF']))\n",
    "\n",
    "gmv_net_value.columns = ['Net_Value']\n",
    "enhanced_net_value.columns = ['Net_Value']\n",
    "\n",
    "def maximal_recovery_period(df):\n",
    "    df['Max_To_Date'] = df['Net_Value'].cummax()\n",
    "    # 寻找恢复期\n",
    "    recovery_periods = []\n",
    "    start_date = None\n",
    "    for i in range(len(df)):\n",
    "        if df['Net_Value'][i] < df['Max_To_Date'][i]:\n",
    "            if start_date is None:\n",
    "                start_date = df.index[i]\n",
    "        else:\n",
    "            if start_date is not None:\n",
    "                end_date = df.index[i]\n",
    "                recovery_periods.append((start_date, end_date))\n",
    "                start_date = None\n",
    "\n",
    "    # 计算最大恢复期\n",
    "    max_recovery_period = None\n",
    "    max_duration = 0\n",
    "    for period in recovery_periods:\n",
    "        duration = period[1] - period[0]\n",
    "        if duration > max_duration:\n",
    "            max_duration = duration\n",
    "            max_recovery_period = period\n",
    "\n",
    "    # 计算最大回撤\n",
    "    max_drawdown = (df['Net_Value'] / df['Net_Value'].cummax() - 1).min()\n",
    "\n",
    "    result = [max_drawdown, max_duration + 1]\n",
    "    return result\n",
    "\n",
    "print(f\"max drawdown of minimal variance portfolio: {maximal_recovery_period(gmv_net_value)[0]}\")\n",
    "print(f\"max drawdown of enhanced index strategy: {maximal_recovery_period(enhanced_net_value)[0]}\")\n",
    "print(f\"max max_duration of minimal variance portfolio: {maximal_recovery_period(gmv_net_value)[1]}\")\n",
    "print(f\"max max_duration of enhanced index strategy: {maximal_recovery_period(enhanced_net_value)[1]}\")"
   ],
   "metadata": {
    "collapsed": false,
    "ExecuteTime": {
     "end_time": "2024-01-28T05:09:15.356606Z",
     "start_time": "2024-01-28T05:09:15.304011Z"
    }
   }
  },
  {
   "cell_type": "code",
   "execution_count": 22,
   "outputs": [
    {
     "data": {
      "text/plain": "[<matplotlib.lines.Line2D at 0x2801b7760>,\n <matplotlib.lines.Line2D at 0x280106a00>]"
     },
     "execution_count": 22,
     "metadata": {},
     "output_type": "execute_result"
    },
    {
     "data": {
      "text/plain": "<Figure size 640x480 with 1 Axes>",
      "image/png": "[encoded data removed]"
     },
     "metadata": {},
     "output_type": "display_data"
    }
   ],
   "source": [
    "# 给net value画图\n",
    "import matplotlib.pyplot as plt\n",
    "plt.plot(gmv_net_value)\n",
    "# plt.plot(enhanced_net_value)"
   ],
   "metadata": {
    "collapsed": false,
    "ExecuteTime": {
     "end_time": "2024-01-28T05:24:53.742148Z",
     "start_time": "2024-01-28T05:24:53.655299Z"
    }
   }
  },
  {
   "cell_type": "code",
   "execution_count": 18,
   "outputs": [],
   "source": [
    "# 导出merged_df\n",
    "# merged_df.to_csv('R_3.csv', columns=['date','enhanced'], index=False)\n"
   ],
   "metadata": {
    "collapsed": false,
    "ExecuteTime": {
     "end_time": "2024-01-28T05:09:15.414912Z",
     "start_time": "2024-01-28T05:09:15.413305Z"
    }
   }
  },
  {
   "cell_type": "code",
   "execution_count": 18,
   "outputs": [],
   "source": [],
   "metadata": {
    "collapsed": false,
    "ExecuteTime": {
     "end_time": "2024-01-28T05:09:15.417488Z",
     "start_time": "2024-01-28T05:09:15.415177Z"
    }
   }
  }
 ],
 "metadata": {
  "kernelspec": {
   "display_name": "Python 3",
   "language": "python",
   "name": "python3"
  },
  "language_info": {
   "codemirror_mode": {
    "name": "ipython",
    "version": 2
   },
   "file_extension": ".py",
   "mimetype": "text/x-python",
   "name": "python",
   "nbconvert_exporter": "python",
   "pygments_lexer": "ipython2",
   "version": "2.7.6"
  }
 },
 "nbformat": 4,
 "nbformat_minor": 0
}
